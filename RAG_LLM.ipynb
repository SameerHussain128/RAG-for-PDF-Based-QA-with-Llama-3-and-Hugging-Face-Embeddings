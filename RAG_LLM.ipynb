{
  "nbformat": 4,
  "nbformat_minor": 0,
  "metadata": {
    "colab": {
      "provenance": [],
      "gpuType": "T4"
    },
    "kernelspec": {
      "name": "python3",
      "display_name": "Python 3"
    },
    "language_info": {
      "name": "python"
    },
    "accelerator": "GPU"
  },
  "cells": [
    {
      "cell_type": "code",
      "source": [
        "from google.colab import drive\n",
        "drive.mount('/content/drive')"
      ],
      "metadata": {
        "colab": {
          "base_uri": "https://localhost:8080/"
        },
        "id": "2z36Z3xnM6J3",
        "outputId": "1e49fbce-9547-455e-bd52-58a14e5cda1b"
      },
      "execution_count": 2,
      "outputs": [
        {
          "output_type": "stream",
          "name": "stdout",
          "text": [
            "Drive already mounted at /content/drive; to attempt to forcibly remount, call drive.mount(\"/content/drive\", force_remount=True).\n"
          ]
        }
      ]
    },
    {
      "cell_type": "code",
      "source": [
        "#!pip install -r requirement.txt"
      ],
      "metadata": {
        "id": "WmAriZHRQ-5u"
      },
      "execution_count": 3,
      "outputs": []
    },
    {
      "cell_type": "code",
      "source": [
        "import os\n",
        "from langchain.document_loaders import UnstructuredFileLoader\n",
        "from langchain.text_splitter import CharacterTextSplitter\n",
        "from langchain_community.embeddings import HuggingFaceEmbeddings\n",
        "from langchain_chroma import Chroma\n",
        "from langchain_groq import ChatGroq\n",
        "from langchain.chains import RetrievalQA"
      ],
      "metadata": {
        "id": "gnC4b9JERYJN"
      },
      "execution_count": 4,
      "outputs": []
    },
    {
      "cell_type": "code",
      "source": [
        "os.environ[\"GROQ_API_KEY\"] = \"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\""
      ],
      "metadata": {
        "id": "a1pxFCTUUaLe"
      },
      "execution_count": 5,
      "outputs": []
    },
    {
      "cell_type": "markdown",
      "source": [
        "# Fetch PDF"
      ],
      "metadata": {
        "id": "W8AvFo0H29hu"
      }
    },
    {
      "cell_type": "code",
      "source": [
        "# Fetch the PDF from the URL\n",
        "import requests\n",
        "url = \"https://www.ggpsbokaro.org/images/download1/5154.pdf\"\n",
        "response = requests.get(url)"
      ],
      "metadata": {
        "id": "0PduEvljX2_O"
      },
      "execution_count": 6,
      "outputs": []
    },
    {
      "cell_type": "code",
      "source": [
        "response"
      ],
      "metadata": {
        "colab": {
          "base_uri": "https://localhost:8080/"
        },
        "id": "W00g_byFZEUV",
        "outputId": "273e93c8-a10e-4e61-ff28-e5555483c8cc"
      },
      "execution_count": 7,
      "outputs": [
        {
          "output_type": "execute_result",
          "data": {
            "text/plain": [
              "<Response [200]>"
            ]
          },
          "metadata": {},
          "execution_count": 7
        }
      ]
    },
    {
      "cell_type": "code",
      "source": [
        "# Save the PDF to a local file\n",
        "with open(\"python_fun.pdf\", \"wb\") as f:\n",
        "   f.write(response.content)"
      ],
      "metadata": {
        "id": "iebbiausWaCG"
      },
      "execution_count": 8,
      "outputs": []
    },
    {
      "cell_type": "code",
      "source": [
        "from langchain_community.document_loaders.unstructured import UnstructuredFileIOLoader # import UnstructuredFileIOLoader\n",
        "\n",
        "with open(\"python_fun.pdf\", \"rb\") as f:\n",
        "  loader = UnstructuredFileIOLoader(file=f)\n",
        "  documents = loader.load()\n",
        "documents"
      ],
      "metadata": {
        "id": "-MVUnU2ndsSO"
      },
      "execution_count": null,
      "outputs": []
    },
    {
      "cell_type": "code",
      "source": [
        "'''# laoding the document\n",
        "loader = UnstructuredFileLoader(\"python_inbuildfunction.pdf\")'''"
      ],
      "metadata": {
        "id": "93hYotyHYhFA"
      },
      "execution_count": null,
      "outputs": []
    },
    {
      "cell_type": "code",
      "source": [
        "'''documents = loader.load()\n",
        "documents'''"
      ],
      "metadata": {
        "id": "jPAOW2tCMiD6"
      },
      "execution_count": null,
      "outputs": []
    },
    {
      "cell_type": "markdown",
      "source": [
        "## Chunking PDF"
      ],
      "metadata": {
        "id": "MehDhAyb3FGv"
      }
    },
    {
      "cell_type": "code",
      "source": [
        "text_splitter = CharacterTextSplitter(chunk_size=200, chunk_overlap=50)\n",
        "text_splitter"
      ],
      "metadata": {
        "id": "EnZt12XgaVtt"
      },
      "execution_count": null,
      "outputs": []
    },
    {
      "cell_type": "code",
      "source": [
        "texts = text_splitter.split_documents(document)\n",
        "texts"
      ],
      "metadata": {
        "id": "0u7w3FXMbzDH"
      },
      "execution_count": null,
      "outputs": []
    },
    {
      "cell_type": "code",
      "source": [
        "type(texts)"
      ],
      "metadata": {
        "id": "CLliObCMUaO2"
      },
      "execution_count": null,
      "outputs": []
    },
    {
      "cell_type": "code",
      "source": [
        "'''import pdfplumber\n",
        "\n",
        "with pdfplumber.open(\"python_inbuildfunctions.pdf\") as pdf:\n",
        "    text = \"\"\n",
        "    for page in pdf.pages:\n",
        "        text += page.extract_text()\n",
        "\n",
        "print(text)'''"
      ],
      "metadata": {
        "id": "PU4_JI6cOhtZ"
      },
      "execution_count": null,
      "outputs": []
    },
    {
      "cell_type": "code",
      "source": [
        "embaddings = HuggingFaceEmbeddings()\n",
        "embaddings"
      ],
      "metadata": {
        "id": "MXrSUj-RjmKD"
      },
      "execution_count": null,
      "outputs": []
    },
    {
      "cell_type": "markdown",
      "source": [
        "## Vector db"
      ],
      "metadata": {
        "id": "UuRVu2a-24kN"
      }
    },
    {
      "cell_type": "code",
      "source": [
        "persist_directory = \"vector_db\""
      ],
      "metadata": {
        "id": "uQz0PZXBuKWc"
      },
      "execution_count": null,
      "outputs": []
    },
    {
      "cell_type": "code",
      "source": [
        "vectordb = Chroma.from_documents(\n",
        "    text, embaddings,\n",
        "    persist_directory=persist_directory\n",
        ")"
      ],
      "metadata": {
        "id": "S51DM8py2h-b"
      },
      "execution_count": null,
      "outputs": []
    },
    {
      "cell_type": "markdown",
      "source": [
        "## Retrival"
      ],
      "metadata": {
        "id": "JEbyWvmu3N0P"
      }
    },
    {
      "cell_type": "code",
      "source": [
        "# Retrival\n",
        "retriever = vectordb.as_retriever()"
      ],
      "metadata": {
        "id": "o6bv-_f82xOE"
      },
      "execution_count": null,
      "outputs": []
    },
    {
      "cell_type": "code",
      "source": [
        "llm = ChatGroq(model = 'Llama-3.1-70b-Versatile',temperature=0)"
      ],
      "metadata": {
        "id": "aoskaAQe5q40"
      },
      "execution_count": null,
      "outputs": []
    },
    {
      "cell_type": "code",
      "source": [
        "qa_chain = RetrievalQA.from_chain_type(llm=llm,chain_type=\"stuff\", retriever=retriever, return_source_documents=True)"
      ],
      "metadata": {
        "id": "sGGjbYpY8ljJ"
      },
      "execution_count": null,
      "outputs": []
    },
    {
      "cell_type": "code",
      "source": [
        "querry = \"what are the inbuilt functions from this pdf\"\n",
        "\n",
        "response = qa_chain({\"query\": querry})"
      ],
      "metadata": {
        "id": "bf_hzq9l9pYx"
      },
      "execution_count": null,
      "outputs": []
    },
    {
      "cell_type": "code",
      "source": [
        "print(response)"
      ],
      "metadata": {
        "id": "Nl_H-Y6z-APD"
      },
      "execution_count": null,
      "outputs": []
    },
    {
      "cell_type": "code",
      "source": [
        "print(response['result'])"
      ],
      "metadata": {
        "id": "ROxDehm496tq"
      },
      "execution_count": null,
      "outputs": []
    },
    {
      "cell_type": "code",
      "source": [
        "print(response[\"source_documents\"][0].metadata[\"source\"])"
      ],
      "metadata": {
        "id": "Uw_rSnJG8lso"
      },
      "execution_count": null,
      "outputs": []
    },
    {
      "cell_type": "code",
      "source": [
        "querry = 'give me summary of all function from this pdf?'\n",
        "response = qa_chain({\"query\": querry})\n",
        "print(response['result'])\n",
        "print(\"*\"*30)"
      ],
      "metadata": {
        "id": "qYYsZ-zo_3hr"
      },
      "execution_count": null,
      "outputs": []
    }
  ]
}